{
  "cells": [
    {
      "metadata": {
        "_cell_guid": "fb109ad4-cdae-4e93-be9a-cff4f04dcfc4",
        "_uuid": "2b3bec228338f1149d7f9673ed7304064fa0d707",
        "trusted": true
      },
      "cell_type": "code",
      "source": "import pandas as pd\nimport matplotlib.pyplot as plt\n%matplotlib inline\nimport seaborn as sns\nimport datetime as dt",
      "execution_count": 57,
      "outputs": []
    },
    {
      "metadata": {
        "trusted": true,
        "_uuid": "72a74ecb913be5bc7b143d5fc511d091deb2c539"
      },
      "cell_type": "code",
      "source": "ecom_df = pd.read_csv('../input/data.csv',encoding=\"ISO-8859-1\", dtype={'CustomerID':str, 'InvoiceNo':str})\n#tail_df = pd.read_csv('../input/data.csv',encoding=\"ISO-8859-1\",dtype={'CustomerID':str, 'InvoiceNo':str})\necom_df.head()",
      "execution_count": 58,
      "outputs": [
        {
          "output_type": "execute_result",
          "execution_count": 58,
          "data": {
            "text/plain": "  InvoiceNo StockCode       ...       CustomerID         Country\n0    536365    85123A       ...            17850  United Kingdom\n1    536365     71053       ...            17850  United Kingdom\n2    536365    84406B       ...            17850  United Kingdom\n3    536365    84029G       ...            17850  United Kingdom\n4    536365    84029E       ...            17850  United Kingdom\n\n[5 rows x 8 columns]",
            "text/html": "<div>\n<style scoped>\n    .dataframe tbody tr th:only-of-type {\n        vertical-align: middle;\n    }\n\n    .dataframe tbody tr th {\n        vertical-align: top;\n    }\n\n    .dataframe thead th {\n        text-align: right;\n    }\n</style>\n<table border=\"1\" class=\"dataframe\">\n  <thead>\n    <tr style=\"text-align: right;\">\n      <th></th>\n      <th>InvoiceNo</th>\n      <th>StockCode</th>\n      <th>Description</th>\n      <th>Quantity</th>\n      <th>InvoiceDate</th>\n      <th>UnitPrice</th>\n      <th>CustomerID</th>\n      <th>Country</th>\n    </tr>\n  </thead>\n  <tbody>\n    <tr>\n      <th>0</th>\n      <td>536365</td>\n      <td>85123A</td>\n      <td>WHITE HANGING HEART T-LIGHT HOLDER</td>\n      <td>6</td>\n      <td>12/1/2010 8:26</td>\n      <td>2.55</td>\n      <td>17850</td>\n      <td>United Kingdom</td>\n    </tr>\n    <tr>\n      <th>1</th>\n      <td>536365</td>\n      <td>71053</td>\n      <td>WHITE METAL LANTERN</td>\n      <td>6</td>\n      <td>12/1/2010 8:26</td>\n      <td>3.39</td>\n      <td>17850</td>\n      <td>United Kingdom</td>\n    </tr>\n    <tr>\n      <th>2</th>\n      <td>536365</td>\n      <td>84406B</td>\n      <td>CREAM CUPID HEARTS COAT HANGER</td>\n      <td>8</td>\n      <td>12/1/2010 8:26</td>\n      <td>2.75</td>\n      <td>17850</td>\n      <td>United Kingdom</td>\n    </tr>\n    <tr>\n      <th>3</th>\n      <td>536365</td>\n      <td>84029G</td>\n      <td>KNITTED UNION FLAG HOT WATER BOTTLE</td>\n      <td>6</td>\n      <td>12/1/2010 8:26</td>\n      <td>3.39</td>\n      <td>17850</td>\n      <td>United Kingdom</td>\n    </tr>\n    <tr>\n      <th>4</th>\n      <td>536365</td>\n      <td>84029E</td>\n      <td>RED WOOLLY HOTTIE WHITE HEART.</td>\n      <td>6</td>\n      <td>12/1/2010 8:26</td>\n      <td>3.39</td>\n      <td>17850</td>\n      <td>United Kingdom</td>\n    </tr>\n  </tbody>\n</table>\n</div>"
          },
          "metadata": {}
        }
      ]
    },
    {
      "metadata": {
        "trusted": true,
        "_uuid": "435f5435b0be8b85ed35cc96a0d2f15f21e5d16e"
      },
      "cell_type": "code",
      "source": "ecom_df.dtypes",
      "execution_count": 60,
      "outputs": [
        {
          "output_type": "execute_result",
          "execution_count": 60,
          "data": {
            "text/plain": "InvoiceNo       object\nStockCode       object\nDescription     object\nQuantity         int64\nInvoiceDate     object\nUnitPrice      float64\nCustomerID      object\nCountry         object\ndtype: object"
          },
          "metadata": {}
        }
      ]
    },
    {
      "metadata": {
        "trusted": true,
        "_uuid": "adb27f19eab3ffd72245aa2d3144f36d094410b0"
      },
      "cell_type": "code",
      "source": "ecom_df.describe()",
      "execution_count": 59,
      "outputs": [
        {
          "output_type": "execute_result",
          "execution_count": 59,
          "data": {
            "text/plain": "            Quantity      UnitPrice\ncount  541909.000000  541909.000000\nmean        9.552250       4.611114\nstd       218.081158      96.759853\nmin    -80995.000000  -11062.060000\n25%         1.000000       1.250000\n50%         3.000000       2.080000\n75%        10.000000       4.130000\nmax     80995.000000   38970.000000",
            "text/html": "<div>\n<style scoped>\n    .dataframe tbody tr th:only-of-type {\n        vertical-align: middle;\n    }\n\n    .dataframe tbody tr th {\n        vertical-align: top;\n    }\n\n    .dataframe thead th {\n        text-align: right;\n    }\n</style>\n<table border=\"1\" class=\"dataframe\">\n  <thead>\n    <tr style=\"text-align: right;\">\n      <th></th>\n      <th>Quantity</th>\n      <th>UnitPrice</th>\n    </tr>\n  </thead>\n  <tbody>\n    <tr>\n      <th>count</th>\n      <td>541909.000000</td>\n      <td>541909.000000</td>\n    </tr>\n    <tr>\n      <th>mean</th>\n      <td>9.552250</td>\n      <td>4.611114</td>\n    </tr>\n    <tr>\n      <th>std</th>\n      <td>218.081158</td>\n      <td>96.759853</td>\n    </tr>\n    <tr>\n      <th>min</th>\n      <td>-80995.000000</td>\n      <td>-11062.060000</td>\n    </tr>\n    <tr>\n      <th>25%</th>\n      <td>1.000000</td>\n      <td>1.250000</td>\n    </tr>\n    <tr>\n      <th>50%</th>\n      <td>3.000000</td>\n      <td>2.080000</td>\n    </tr>\n    <tr>\n      <th>75%</th>\n      <td>10.000000</td>\n      <td>4.130000</td>\n    </tr>\n    <tr>\n      <th>max</th>\n      <td>80995.000000</td>\n      <td>38970.000000</td>\n    </tr>\n  </tbody>\n</table>\n</div>"
          },
          "metadata": {}
        }
      ]
    },
    {
      "metadata": {
        "trusted": true,
        "_uuid": "aa7b97689096a29c36637daa3f2663b67471327e"
      },
      "cell_type": "code",
      "source": "ecom_df.isnull().sum(axis = 0)",
      "execution_count": null,
      "outputs": []
    },
    {
      "metadata": {
        "_uuid": "e137fc6ce9df703c09de36e7d82ff59305b64b57"
      },
      "cell_type": "markdown",
      "source": "# Get the Data"
    },
    {
      "metadata": {
        "trusted": true,
        "_uuid": "051f2d43323a5d209ef6bacfa3c7961e3d76a175"
      },
      "cell_type": "code",
      "source": "ecom_df.Quantity.unique()",
      "execution_count": 61,
      "outputs": [
        {
          "output_type": "execute_result",
          "execution_count": 61,
          "data": {
            "text/plain": "array([     6,      8,      2,     32,      3,      4,     24,     12,\n           48,     18,     20,     36,     80,     64,     10,    120,\n           96,     23,      5,      1,     -1,     50,     40,    100,\n          192,    432,    144,    288,    -12,    -24,     16,      9,\n          128,     25,     30,     28,      7,     56,     72,    200,\n          600,    480,     -6,     14,     -2,     11,     33,     13,\n           -4,     -5,     -7,     -3,     70,    252,     60,    216,\n          384,    -10,     27,     15,     22,     19,     17,     21,\n           34,     47,    108,     52,  -9360,    -38,     75,    270,\n           42,    240,     90,    320,   1824,    204,     69,    -36,\n         -192,   -144,    160,   2880,   1400,     39,    -48,    -50,\n           26,   1440,     31,     82,     78,     97,     98,     35,\n           57,    -20,    110,    -22,    -30,    -70,   -130,    -80,\n         -120,    -40,    -25,    -14,    -15,    -69,   -140,   -320,\n           -8,    720,    156,    324,     38,     37,     49,     95,\n           -9,    -11,     29,     41,    -72,    -35,    -21,    -43,\n          -19,    -18,    -44,    402,    378,    150,    300,     54,\n          104,     67,    258,     66,     44,     55,     46,     99,\n           61,    408,    972,    208,   1008,   1000,    -77,   1488,\n          250,   1394,    400,   -223,   -150,    -13,    -33,   -723,\n         -177,     79,     84,    -32,   -100,    -28,    272,   -145,\n          -47,    -96,    113,     45,    106,     68,    267,    115,\n           65,   1728,    -60,    -16,     53,   -240,     76,    460,\n           71,     43,    213,     58,    576,   2400,    500,    180,\n         -300,   -500,    -23,    752,    960,   1296,    210,    172,\n          215,    129,    138,    116,    135,    197,   -106,    -54,\n          -17,   -939,    147,    168,    256,   -201,    -53,    -29,\n        -2600,   -990,   -290,    -45,    860,   1010,   1356,   1284,\n          186,    114,    360,   1930,   2000,   3114,   1300,    670,\n          111,    211,     59,   -310,    -61,    -41,    176,    648,\n           62,  74215, -74215,    -64,    -84,     89,  -1400,     73,\n          -57,    112,    456,    -59,    -31,   5568,   2560,    136,\n          900,   -600,    -42,    -94,   -207,    -52,    130,   -206,\n         2592,    420,    800,    101,   1200,    864,   -217,     94,\n        -1430,   1287,   -162,   -230,   -173,   -390,   -234,    504,\n          123,    118,    -76,   -200,   1056,   1500,    280,    407,\n          141,    124,    -99,     51,    -92,   -741,   3906,   -400,\n         -114,    102,   1152,    -88,    198,    117,     86,   -720,\n          125,    -86,   -391,    -87,   -278,    140,    228,   -154,\n        -3000,     81,   -675,   -210,   -345,   -975,  -1200,  -1121,\n          -27,   -541,  -1277,   -197,   3000,  -1100,    -63,  -5368,\n          219,   -259,    232,    -82,   -178,    170,   -110,    768,\n           88,    700,   -102,   2160,   -323,   -450,   -232,    -83,\n         -153,   -524,  -2472,    -49,   -105,    342,    304,    167,\n          -34,    640,    175,    220,     74,     93,    164,    163,\n           63,    637,    122,    158,    165,    350,    -46,    -75,\n         -690,    -39,    -66,     83,    312,   -180,    392,   -624,\n         -194,    -26,    -62,    -37,    -91,   -139,   -158,  -1479,\n          -55,   -576,   -750,    330,    151,    -93,   -432,    -58,\n        -1092,   -670,  -1300,  -1930,  -2000,  -3114,    462,    -65,\n          -68,    492,   -620,    273,    -90,   -170,  -1512,    -51,\n           85,    -56,   -160,   -360,    105,   -960,  -2376,   1350,\n          428,  -1350,    336,   -786,   -590,   -168,   -101,    -71,\n          132,   -413,   -664,    227,   2700,    222,    246,    906,\n          756,    888,    552,    -97,    224,    738,    608,   -212,\n         4300,    146,    143,    276,   -125,   -116,   -108,   4000,\n         -304,   -272,  -1206,    -95,   1600,    323,   -161,   -472,\n         -618,   -204,   1515,  -1515,  -9058,  -9600,    660,   -420,\n         -126,   -220,   -271,  -1440,    264,    188,    588,    612,\n          152,   -324,   -480,   -164,    -78,   -118,    430,  -1681,\n           87,    155,    701,    828,    540,    696,    560,   -250,\n         -408,   -179,    121,   -124,    512,   -251,  -3100,   3100,\n         -169,    126,    291,   3186,  -2834,   -109,    109,   -121,\n         -530,   -227,    261,   -346,    352,    142,    107,   -188,\n        -1060,   -342,   -288,    348,   1900,    157,   -343,   -455,\n          425,    968,    684,    824,   -828,   -701,    196,    248,\n          410,    236,    230,   -156,   -553,    145,    448,    245,\n         -252,   -334,   -318,   -113,   -115,    171,   -242,    840,\n         -967,   -203,  -3167,   -443,  -1897,    225,   -434,    750,\n         -682,   -484,    682,    344,   -635,   -117,  -3667,    450,\n          310,    494,   -384,     92,   1788,   -138,    624,    744,\n          416,    496,    396,    306,   1878,   1944,    666,    708,\n         1428,    852,   1412,    528,   -756,   -752,   -152,    -85,\n         -312,    -79,   -147,    -67,   -131,    183,   -209,   -186,\n         -231,   -129,   -458,   -275,  -2880,   1540,    672,   -800,\n         -430,   -380,    -74,   -840,  -1296,   -365,   -104,   -270,\n          -73,   -306,     91,    255,    468,   -468,   -111,   -184,\n         -103,   -335,   4800,   -112,  -1000,    912,   1992,    184,\n          148,   -657,  -1671,  -1158,  -2618,  -2003,   -674,  -4830,\n         -905,  -1128,    832,    992,    630,   1020,   2100,    162,\n        -1560,  -1284,    -81,    314,    370,    131,    133,    484,\n          149,    153,    257,    139,    137,    628,    179,   1820,\n          478,    335,    253,    242,    375,   -276,   -256,    281,\n          193,    181,    404,    244,    207,    199,   1130,    326,\n          654,    688,    268,    249,   -864,    234,  -1510,   -550,\n         -244,   -132,   -327,   -313,    279,   -398,   -280,    374,\n         -504,   -696,   -149,   -224,   -428,    212,   -267,   -175,\n        12540,    760,    -98,    774,   -151,   2040,  -1131,   -135,\n         1120,     77,   -900,    177,    490,    388,    620,   1404,\n         -155,   -355,   -337,  -1050,   -338,    205,   -235,    698,\n        80995, -80995])"
          },
          "metadata": {}
        }
      ]
    },
    {
      "metadata": {
        "trusted": true,
        "_uuid": "7f8a0d7635476f23c18d90e5e66f2c9090f5aae4"
      },
      "cell_type": "code",
      "source": "### Remove the rows with quantity that have minus values. \necom_df[ecom_df['Quantity'] < -252]",
      "execution_count": 62,
      "outputs": [
        {
          "output_type": "execute_result",
          "execution_count": 62,
          "data": {
            "text/plain": "       InvoiceNo StockCode       ...       CustomerID         Country\n4287     C536757     84347       ...            15838  United Kingdom\n7292      537028     21696       ...              NaN  United Kingdom\n21518     538090     20956       ...              NaN  United Kingdom\n34291    C539329     20733       ...            16013  United Kingdom\n34292    C539329    85123A       ...            16013  United Kingdom\n44863     540241     35957       ...              NaN  United Kingdom\n50849     540564     22617       ...              NaN  United Kingdom\n51049     540638    72038P       ...              NaN  United Kingdom\n51673     540651     82599       ...              NaN  United Kingdom\n55189     540978     84050       ...              NaN  United Kingdom\n61624    C541433     23166       ...            12346  United Kingdom\n65063     541685     22351       ...              NaN  United Kingdom\n65077     541687    46000S       ...              NaN  United Kingdom\n77073    C542693     15036       ...            12908  United Kingdom\n82794     543257    84611B       ...              NaN  United Kingdom\n82799     543262    84614A       ...              NaN  United Kingdom\n94765     544410    84997C       ...              NaN  United Kingdom\n97643     544649     21621       ...              NaN  United Kingdom\n108088   C545478         D       ...            16422  United Kingdom\n108578    545547    85061W       ...              NaN  United Kingdom\n109344    545598     22080       ...              NaN  United Kingdom\n113580    545990     84598       ...              NaN  United Kingdom\n114493    546016     85172       ...              NaN  United Kingdom\n114522    546018     85172       ...              NaN  United Kingdom\n114535    546021     85175       ...              NaN  United Kingdom\n114538    546023     85175       ...              NaN  United Kingdom\n114539    546024     85175       ...              NaN  United Kingdom\n114540    546025     85172       ...              NaN  United Kingdom\n115488    546124    35610C       ...              NaN  United Kingdom\n115504    546129    35610B       ...              NaN  United Kingdom\n...          ...       ...       ...              ...             ...\n445128    574822    85036B       ...              NaN  United Kingdom\n452551   C575341     22992       ...            12931  United Kingdom\n452552   C575341     22991       ...            12931  United Kingdom\n456830    575721     22804       ...              NaN  United Kingdom\n456831    575722    85123A       ...              NaN  United Kingdom\n467820    576368     21135       ...              NaN  United Kingdom\n467821    576369     21135       ...              NaN  United Kingdom\n472841    576764     16008       ...              NaN  United Kingdom\n472842    576765     22219       ...              NaN  United Kingdom\n478968    577124     22759       ...              NaN  United Kingdom\n480501    577307    16169E       ...              NaN  United Kingdom\n487975    577787     23055       ...              NaN  United Kingdom\n487977    577789     23057       ...              NaN  United Kingdom\n495850    578327    72807A       ...              NaN  United Kingdom\n495851    578328    72807B       ...              NaN  United Kingdom\n495852    578329    72807C       ...              NaN  United Kingdom\n497343   C578363     21135       ...            15482  United Kingdom\n497821    578478    72807C       ...              NaN  United Kingdom\n502119    578838     21591       ...              NaN  United Kingdom\n505541   C579090     84598       ...            12427         Germany\n514735    579742     85204       ...              NaN  United Kingdom\n519986    580218     22577       ...              NaN  United Kingdom\n522163    580382     16045       ...              NaN  United Kingdom\n524370    580547     21201       ...              NaN  United Kingdom\n532724    580991     22481       ...              NaN  United Kingdom\n535327    581204     85104       ...              NaN  United Kingdom\n535330    581207     21688       ...              NaN  United Kingdom\n535335    581212     22578       ...              NaN  United Kingdom\n536908    581226     23090       ...              NaN  United Kingdom\n540422   C581484     23843       ...            16446  United Kingdom\n\n[193 rows x 8 columns]",
            "text/html": "<div>\n<style scoped>\n    .dataframe tbody tr th:only-of-type {\n        vertical-align: middle;\n    }\n\n    .dataframe tbody tr th {\n        vertical-align: top;\n    }\n\n    .dataframe thead th {\n        text-align: right;\n    }\n</style>\n<table border=\"1\" class=\"dataframe\">\n  <thead>\n    <tr style=\"text-align: right;\">\n      <th></th>\n      <th>InvoiceNo</th>\n      <th>StockCode</th>\n      <th>Description</th>\n      <th>Quantity</th>\n      <th>InvoiceDate</th>\n      <th>UnitPrice</th>\n      <th>CustomerID</th>\n      <th>Country</th>\n    </tr>\n  </thead>\n  <tbody>\n    <tr>\n      <th>4287</th>\n      <td>C536757</td>\n      <td>84347</td>\n      <td>ROTATING SILVER ANGELS T-LIGHT HLDR</td>\n      <td>-9360</td>\n      <td>12/2/2010 14:23</td>\n      <td>0.03</td>\n      <td>15838</td>\n      <td>United Kingdom</td>\n    </tr>\n    <tr>\n      <th>7292</th>\n      <td>537028</td>\n      <td>21696</td>\n      <td>NaN</td>\n      <td>-320</td>\n      <td>12/3/2010 16:36</td>\n      <td>0.00</td>\n      <td>NaN</td>\n      <td>United Kingdom</td>\n    </tr>\n    <tr>\n      <th>21518</th>\n      <td>538090</td>\n      <td>20956</td>\n      <td>?</td>\n      <td>-723</td>\n      <td>12/9/2010 14:48</td>\n      <td>0.00</td>\n      <td>NaN</td>\n      <td>United Kingdom</td>\n    </tr>\n    <tr>\n      <th>34291</th>\n      <td>C539329</td>\n      <td>20733</td>\n      <td>GOLD MINI TAPE MEASURE</td>\n      <td>-300</td>\n      <td>12/17/2010 9:37</td>\n      <td>0.72</td>\n      <td>16013</td>\n      <td>United Kingdom</td>\n    </tr>\n    <tr>\n      <th>34292</th>\n      <td>C539329</td>\n      <td>85123A</td>\n      <td>WHITE HANGING HEART T-LIGHT HOLDER</td>\n      <td>-500</td>\n      <td>12/17/2010 9:37</td>\n      <td>2.55</td>\n      <td>16013</td>\n      <td>United Kingdom</td>\n    </tr>\n    <tr>\n      <th>44863</th>\n      <td>540241</td>\n      <td>35957</td>\n      <td>NaN</td>\n      <td>-939</td>\n      <td>1/5/2011 15:17</td>\n      <td>0.00</td>\n      <td>NaN</td>\n      <td>United Kingdom</td>\n    </tr>\n    <tr>\n      <th>50849</th>\n      <td>540564</td>\n      <td>22617</td>\n      <td>mouldy, thrown away.</td>\n      <td>-2600</td>\n      <td>1/10/2011 10:36</td>\n      <td>0.00</td>\n      <td>NaN</td>\n      <td>United Kingdom</td>\n    </tr>\n    <tr>\n      <th>51049</th>\n      <td>540638</td>\n      <td>72038P</td>\n      <td>damages</td>\n      <td>-990</td>\n      <td>1/10/2011 12:14</td>\n      <td>0.00</td>\n      <td>NaN</td>\n      <td>United Kingdom</td>\n    </tr>\n    <tr>\n      <th>51673</th>\n      <td>540651</td>\n      <td>82599</td>\n      <td>?</td>\n      <td>-290</td>\n      <td>1/10/2011 15:00</td>\n      <td>0.00</td>\n      <td>NaN</td>\n      <td>United Kingdom</td>\n    </tr>\n    <tr>\n      <th>55189</th>\n      <td>540978</td>\n      <td>84050</td>\n      <td>counted</td>\n      <td>-310</td>\n      <td>1/12/2011 15:04</td>\n      <td>0.00</td>\n      <td>NaN</td>\n      <td>United Kingdom</td>\n    </tr>\n    <tr>\n      <th>61624</th>\n      <td>C541433</td>\n      <td>23166</td>\n      <td>MEDIUM CERAMIC TOP STORAGE JAR</td>\n      <td>-74215</td>\n      <td>1/18/2011 10:17</td>\n      <td>1.04</td>\n      <td>12346</td>\n      <td>United Kingdom</td>\n    </tr>\n    <tr>\n      <th>65063</th>\n      <td>541685</td>\n      <td>22351</td>\n      <td>Given away</td>\n      <td>-1400</td>\n      <td>1/20/2011 15:41</td>\n      <td>0.00</td>\n      <td>NaN</td>\n      <td>United Kingdom</td>\n    </tr>\n    <tr>\n      <th>65077</th>\n      <td>541687</td>\n      <td>46000S</td>\n      <td>Dotcom</td>\n      <td>-300</td>\n      <td>1/20/2011 15:42</td>\n      <td>0.00</td>\n      <td>NaN</td>\n      <td>United Kingdom</td>\n    </tr>\n    <tr>\n      <th>77073</th>\n      <td>C542693</td>\n      <td>15036</td>\n      <td>ASSORTED COLOURS SILK FAN</td>\n      <td>-600</td>\n      <td>1/31/2011 12:36</td>\n      <td>0.65</td>\n      <td>12908</td>\n      <td>United Kingdom</td>\n    </tr>\n    <tr>\n      <th>82794</th>\n      <td>543257</td>\n      <td>84611B</td>\n      <td>thrown away</td>\n      <td>-1430</td>\n      <td>2/4/2011 16:06</td>\n      <td>0.00</td>\n      <td>NaN</td>\n      <td>United Kingdom</td>\n    </tr>\n    <tr>\n      <th>82799</th>\n      <td>543262</td>\n      <td>84614A</td>\n      <td>thrown away</td>\n      <td>-390</td>\n      <td>2/4/2011 16:08</td>\n      <td>0.00</td>\n      <td>NaN</td>\n      <td>United Kingdom</td>\n    </tr>\n    <tr>\n      <th>94765</th>\n      <td>544410</td>\n      <td>84997C</td>\n      <td>?</td>\n      <td>-741</td>\n      <td>2/18/2011 13:54</td>\n      <td>0.00</td>\n      <td>NaN</td>\n      <td>United Kingdom</td>\n    </tr>\n    <tr>\n      <th>97643</th>\n      <td>544649</td>\n      <td>21621</td>\n      <td>?</td>\n      <td>-400</td>\n      <td>2/22/2011 12:37</td>\n      <td>0.00</td>\n      <td>NaN</td>\n      <td>United Kingdom</td>\n    </tr>\n    <tr>\n      <th>108088</th>\n      <td>C545478</td>\n      <td>D</td>\n      <td>Discount</td>\n      <td>-720</td>\n      <td>3/3/2011 11:08</td>\n      <td>0.01</td>\n      <td>16422</td>\n      <td>United Kingdom</td>\n    </tr>\n    <tr>\n      <th>108578</th>\n      <td>545547</td>\n      <td>85061W</td>\n      <td>NaN</td>\n      <td>-391</td>\n      <td>3/3/2011 15:07</td>\n      <td>0.00</td>\n      <td>NaN</td>\n      <td>United Kingdom</td>\n    </tr>\n    <tr>\n      <th>109344</th>\n      <td>545598</td>\n      <td>22080</td>\n      <td>NaN</td>\n      <td>-278</td>\n      <td>3/4/2011 11:16</td>\n      <td>0.00</td>\n      <td>NaN</td>\n      <td>United Kingdom</td>\n    </tr>\n    <tr>\n      <th>113580</th>\n      <td>545990</td>\n      <td>84598</td>\n      <td>check</td>\n      <td>-3000</td>\n      <td>3/8/2011 13:07</td>\n      <td>0.00</td>\n      <td>NaN</td>\n      <td>United Kingdom</td>\n    </tr>\n    <tr>\n      <th>114493</th>\n      <td>546016</td>\n      <td>85172</td>\n      <td>Dotcom set</td>\n      <td>-675</td>\n      <td>3/8/2011 17:21</td>\n      <td>0.00</td>\n      <td>NaN</td>\n      <td>United Kingdom</td>\n    </tr>\n    <tr>\n      <th>114522</th>\n      <td>546018</td>\n      <td>85172</td>\n      <td>wrongly sold as sets</td>\n      <td>-600</td>\n      <td>3/8/2011 17:23</td>\n      <td>0.00</td>\n      <td>NaN</td>\n      <td>United Kingdom</td>\n    </tr>\n    <tr>\n      <th>114535</th>\n      <td>546021</td>\n      <td>85175</td>\n      <td>dotcom sold sets</td>\n      <td>-345</td>\n      <td>3/8/2011 17:27</td>\n      <td>0.00</td>\n      <td>NaN</td>\n      <td>United Kingdom</td>\n    </tr>\n    <tr>\n      <th>114538</th>\n      <td>546023</td>\n      <td>85175</td>\n      <td>wrongly sold sets</td>\n      <td>-975</td>\n      <td>3/8/2011 17:29</td>\n      <td>0.00</td>\n      <td>NaN</td>\n      <td>United Kingdom</td>\n    </tr>\n    <tr>\n      <th>114539</th>\n      <td>546024</td>\n      <td>85175</td>\n      <td>? sold as sets?</td>\n      <td>-1200</td>\n      <td>3/8/2011 17:31</td>\n      <td>0.00</td>\n      <td>NaN</td>\n      <td>United Kingdom</td>\n    </tr>\n    <tr>\n      <th>114540</th>\n      <td>546025</td>\n      <td>85172</td>\n      <td>?sold as sets?</td>\n      <td>-600</td>\n      <td>3/8/2011 17:31</td>\n      <td>0.00</td>\n      <td>NaN</td>\n      <td>United Kingdom</td>\n    </tr>\n    <tr>\n      <th>115488</th>\n      <td>546124</td>\n      <td>35610C</td>\n      <td>Thrown away.</td>\n      <td>-1121</td>\n      <td>3/9/2011 14:50</td>\n      <td>0.00</td>\n      <td>NaN</td>\n      <td>United Kingdom</td>\n    </tr>\n    <tr>\n      <th>115504</th>\n      <td>546129</td>\n      <td>35610B</td>\n      <td>thrown away</td>\n      <td>-541</td>\n      <td>3/9/2011 15:07</td>\n      <td>0.00</td>\n      <td>NaN</td>\n      <td>United Kingdom</td>\n    </tr>\n    <tr>\n      <th>...</th>\n      <td>...</td>\n      <td>...</td>\n      <td>...</td>\n      <td>...</td>\n      <td>...</td>\n      <td>...</td>\n      <td>...</td>\n      <td>...</td>\n    </tr>\n    <tr>\n      <th>445128</th>\n      <td>574822</td>\n      <td>85036B</td>\n      <td>damages wax</td>\n      <td>-1284</td>\n      <td>11/7/2011 10:38</td>\n      <td>0.00</td>\n      <td>NaN</td>\n      <td>United Kingdom</td>\n    </tr>\n    <tr>\n      <th>452551</th>\n      <td>C575341</td>\n      <td>22992</td>\n      <td>REVOLVER WOODEN RULER</td>\n      <td>-276</td>\n      <td>11/9/2011 14:36</td>\n      <td>1.65</td>\n      <td>12931</td>\n      <td>United Kingdom</td>\n    </tr>\n    <tr>\n      <th>452552</th>\n      <td>C575341</td>\n      <td>22991</td>\n      <td>GIRAFFE WOODEN RULER</td>\n      <td>-288</td>\n      <td>11/9/2011 14:36</td>\n      <td>1.65</td>\n      <td>12931</td>\n      <td>United Kingdom</td>\n    </tr>\n    <tr>\n      <th>456830</th>\n      <td>575721</td>\n      <td>22804</td>\n      <td>Wrongly mrked had 85123a in box</td>\n      <td>-256</td>\n      <td>11/10/2011 18:19</td>\n      <td>0.00</td>\n      <td>NaN</td>\n      <td>United Kingdom</td>\n    </tr>\n    <tr>\n      <th>456831</th>\n      <td>575722</td>\n      <td>85123A</td>\n      <td>wrongly marked carton 22804</td>\n      <td>-256</td>\n      <td>11/10/2011 18:20</td>\n      <td>0.00</td>\n      <td>NaN</td>\n      <td>United Kingdom</td>\n    </tr>\n    <tr>\n      <th>467820</th>\n      <td>576368</td>\n      <td>21135</td>\n      <td>wet rusty</td>\n      <td>-864</td>\n      <td>11/14/2011 18:33</td>\n      <td>0.00</td>\n      <td>NaN</td>\n      <td>United Kingdom</td>\n    </tr>\n    <tr>\n      <th>467821</th>\n      <td>576369</td>\n      <td>21135</td>\n      <td>wet rusty</td>\n      <td>-288</td>\n      <td>11/14/2011 18:35</td>\n      <td>0.00</td>\n      <td>NaN</td>\n      <td>United Kingdom</td>\n    </tr>\n    <tr>\n      <th>472841</th>\n      <td>576764</td>\n      <td>16008</td>\n      <td>check</td>\n      <td>-1510</td>\n      <td>11/16/2011 13:10</td>\n      <td>0.00</td>\n      <td>NaN</td>\n      <td>United Kingdom</td>\n    </tr>\n    <tr>\n      <th>472842</th>\n      <td>576765</td>\n      <td>22219</td>\n      <td>???lost</td>\n      <td>-550</td>\n      <td>11/16/2011 13:11</td>\n      <td>0.00</td>\n      <td>NaN</td>\n      <td>United Kingdom</td>\n    </tr>\n    <tr>\n      <th>478968</th>\n      <td>577124</td>\n      <td>22759</td>\n      <td>check</td>\n      <td>-327</td>\n      <td>11/17/2011 18:41</td>\n      <td>0.00</td>\n      <td>NaN</td>\n      <td>United Kingdom</td>\n    </tr>\n    <tr>\n      <th>480501</th>\n      <td>577307</td>\n      <td>16169E</td>\n      <td>check</td>\n      <td>-313</td>\n      <td>11/18/2011 13:06</td>\n      <td>0.00</td>\n      <td>NaN</td>\n      <td>United Kingdom</td>\n    </tr>\n    <tr>\n      <th>487975</th>\n      <td>577787</td>\n      <td>23055</td>\n      <td>rusty thrown away</td>\n      <td>-398</td>\n      <td>11/21/2011 16:28</td>\n      <td>0.00</td>\n      <td>NaN</td>\n      <td>United Kingdom</td>\n    </tr>\n    <tr>\n      <th>487977</th>\n      <td>577789</td>\n      <td>23057</td>\n      <td>rusty throw away</td>\n      <td>-280</td>\n      <td>11/21/2011 16:28</td>\n      <td>0.00</td>\n      <td>NaN</td>\n      <td>United Kingdom</td>\n    </tr>\n    <tr>\n      <th>495850</th>\n      <td>578327</td>\n      <td>72807A</td>\n      <td>wet pallet</td>\n      <td>-504</td>\n      <td>11/23/2011 17:55</td>\n      <td>0.00</td>\n      <td>NaN</td>\n      <td>United Kingdom</td>\n    </tr>\n    <tr>\n      <th>495851</th>\n      <td>578328</td>\n      <td>72807B</td>\n      <td>wet pallet</td>\n      <td>-696</td>\n      <td>11/23/2011 17:55</td>\n      <td>0.00</td>\n      <td>NaN</td>\n      <td>United Kingdom</td>\n    </tr>\n    <tr>\n      <th>495852</th>\n      <td>578329</td>\n      <td>72807C</td>\n      <td>wet pallet</td>\n      <td>-408</td>\n      <td>11/23/2011 17:56</td>\n      <td>0.00</td>\n      <td>NaN</td>\n      <td>United Kingdom</td>\n    </tr>\n    <tr>\n      <th>497343</th>\n      <td>C578363</td>\n      <td>21135</td>\n      <td>VICTORIAN  METAL POSTCARD SPRING</td>\n      <td>-288</td>\n      <td>11/24/2011 10:40</td>\n      <td>0.40</td>\n      <td>15482</td>\n      <td>United Kingdom</td>\n    </tr>\n    <tr>\n      <th>497821</th>\n      <td>578478</td>\n      <td>72807C</td>\n      <td>???missing</td>\n      <td>-428</td>\n      <td>11/24/2011 12:45</td>\n      <td>0.00</td>\n      <td>NaN</td>\n      <td>United Kingdom</td>\n    </tr>\n    <tr>\n      <th>502119</th>\n      <td>578838</td>\n      <td>21591</td>\n      <td>check</td>\n      <td>-267</td>\n      <td>11/25/2011 15:52</td>\n      <td>0.00</td>\n      <td>NaN</td>\n      <td>United Kingdom</td>\n    </tr>\n    <tr>\n      <th>505541</th>\n      <td>C579090</td>\n      <td>84598</td>\n      <td>BOYS ALPHABET IRON ON PATCHES</td>\n      <td>-288</td>\n      <td>11/28/2011 10:48</td>\n      <td>0.21</td>\n      <td>12427</td>\n      <td>Germany</td>\n    </tr>\n    <tr>\n      <th>514735</th>\n      <td>579742</td>\n      <td>85204</td>\n      <td>lost??</td>\n      <td>-1131</td>\n      <td>11/30/2011 14:34</td>\n      <td>0.00</td>\n      <td>NaN</td>\n      <td>United Kingdom</td>\n    </tr>\n    <tr>\n      <th>519986</th>\n      <td>580218</td>\n      <td>22577</td>\n      <td>check</td>\n      <td>-300</td>\n      <td>12/2/2011 12:12</td>\n      <td>0.00</td>\n      <td>NaN</td>\n      <td>United Kingdom</td>\n    </tr>\n    <tr>\n      <th>522163</th>\n      <td>580382</td>\n      <td>16045</td>\n      <td>check</td>\n      <td>-900</td>\n      <td>12/2/2011 17:59</td>\n      <td>0.00</td>\n      <td>NaN</td>\n      <td>United Kingdom</td>\n    </tr>\n    <tr>\n      <th>524370</th>\n      <td>580547</td>\n      <td>21201</td>\n      <td>???</td>\n      <td>-390</td>\n      <td>12/5/2011 9:29</td>\n      <td>0.00</td>\n      <td>NaN</td>\n      <td>United Kingdom</td>\n    </tr>\n    <tr>\n      <th>532724</th>\n      <td>580991</td>\n      <td>22481</td>\n      <td>wet boxes</td>\n      <td>-288</td>\n      <td>12/6/2011 16:55</td>\n      <td>0.00</td>\n      <td>NaN</td>\n      <td>United Kingdom</td>\n    </tr>\n    <tr>\n      <th>535327</th>\n      <td>581204</td>\n      <td>85104</td>\n      <td>????damages????</td>\n      <td>-355</td>\n      <td>12/7/2011 18:32</td>\n      <td>0.00</td>\n      <td>NaN</td>\n      <td>United Kingdom</td>\n    </tr>\n    <tr>\n      <th>535330</th>\n      <td>581207</td>\n      <td>21688</td>\n      <td>mixed up</td>\n      <td>-337</td>\n      <td>12/7/2011 18:34</td>\n      <td>0.00</td>\n      <td>NaN</td>\n      <td>United Kingdom</td>\n    </tr>\n    <tr>\n      <th>535335</th>\n      <td>581212</td>\n      <td>22578</td>\n      <td>lost</td>\n      <td>-1050</td>\n      <td>12/7/2011 18:38</td>\n      <td>0.00</td>\n      <td>NaN</td>\n      <td>United Kingdom</td>\n    </tr>\n    <tr>\n      <th>536908</th>\n      <td>581226</td>\n      <td>23090</td>\n      <td>missing</td>\n      <td>-338</td>\n      <td>12/8/2011 9:56</td>\n      <td>0.00</td>\n      <td>NaN</td>\n      <td>United Kingdom</td>\n    </tr>\n    <tr>\n      <th>540422</th>\n      <td>C581484</td>\n      <td>23843</td>\n      <td>PAPER CRAFT , LITTLE BIRDIE</td>\n      <td>-80995</td>\n      <td>12/9/2011 9:27</td>\n      <td>2.08</td>\n      <td>16446</td>\n      <td>United Kingdom</td>\n    </tr>\n  </tbody>\n</table>\n<p>193 rows × 8 columns</p>\n</div>"
          },
          "metadata": {}
        }
      ]
    },
    {
      "metadata": {
        "trusted": true,
        "_uuid": "a4b3b5f911783d706397cada30d496ef16fdfc70"
      },
      "cell_type": "code",
      "source": "min(ecom_df.InvoiceDate)",
      "execution_count": 63,
      "outputs": [
        {
          "output_type": "execute_result",
          "execution_count": 63,
          "data": {
            "text/plain": "'1/10/2011 10:04'"
          },
          "metadata": {}
        }
      ]
    },
    {
      "metadata": {
        "trusted": true,
        "_uuid": "4850a8361be5ad269baacb66fbf8dcbf6913b954"
      },
      "cell_type": "code",
      "source": "max(ecom_df.InvoiceDate)",
      "execution_count": 64,
      "outputs": [
        {
          "output_type": "execute_result",
          "execution_count": 64,
          "data": {
            "text/plain": "'9/9/2011 9:52'"
          },
          "metadata": {}
        }
      ]
    },
    {
      "metadata": {
        "trusted": true,
        "_uuid": "310350d01ecfdc9b8a24e982d155087864eca2b7"
      },
      "cell_type": "code",
      "source": "### List the unique countries\necom_df.Country.unique()",
      "execution_count": 65,
      "outputs": [
        {
          "output_type": "execute_result",
          "execution_count": 65,
          "data": {
            "text/plain": "array(['United Kingdom', 'France', 'Australia', 'Netherlands', 'Germany',\n       'Norway', 'EIRE', 'Switzerland', 'Spain', 'Poland', 'Portugal',\n       'Italy', 'Belgium', 'Lithuania', 'Japan', 'Iceland',\n       'Channel Islands', 'Denmark', 'Cyprus', 'Sweden', 'Austria',\n       'Israel', 'Finland', 'Bahrain', 'Greece', 'Hong Kong', 'Singapore',\n       'Lebanon', 'United Arab Emirates', 'Saudi Arabia',\n       'Czech Republic', 'Canada', 'Unspecified', 'Brazil', 'USA',\n       'European Community', 'Malta', 'RSA'], dtype=object)"
          },
          "metadata": {}
        }
      ]
    },
    {
      "metadata": {
        "trusted": true,
        "_uuid": "bef9b3f2c1ab37a126872b6f1b39b468e2b44c00"
      },
      "cell_type": "code",
      "source": "### Most of the data is from UK. Drop other countries to avoid bias. \necom_df.groupby('Country').InvoiceNo.count().plot.bar(ylim = 0)\nplt.show()",
      "execution_count": 66,
      "outputs": [
        {
          "output_type": "display_data",
          "data": {
            "text/plain": "<Figure size 432x288 with 1 Axes>",
            "image/png": "[encoded data removed]"
          },
          "metadata": {}
        }
      ]
    },
    {
      "metadata": {
        "collapsed": true,
        "trusted": true,
        "_uuid": "099bf79086b0d6952551457a1a634788d5744358"
      },
      "cell_type": "markdown",
      "source": "# Prepare the Data"
    },
    {
      "metadata": {
        "_uuid": "c275644686ab6b4348125a5d11db4faf3ee456cf"
      },
      "cell_type": "markdown",
      "source": "\nAs customer clusters may vary by geography, I’ll restrict the data to only United Kingdom customers, which contains most of our customers historical data."
    },
    {
      "metadata": {
        "trusted": true,
        "_uuid": "8dd705a4ffc918a348ad2e5d8a0b772c26399349"
      },
      "cell_type": "code",
      "source": "ecom_df.shape",
      "execution_count": 67,
      "outputs": [
        {
          "output_type": "execute_result",
          "execution_count": 67,
          "data": {
            "text/plain": "(541909, 8)"
          },
          "metadata": {}
        }
      ]
    },
    {
      "metadata": {
        "trusted": true,
        "_uuid": "56fd0b22b2728ba5f3c12300e126be0c12a63e30"
      },
      "cell_type": "code",
      "source": "ecom_uk = ecom_df[ecom_df['Country'] =='United Kingdom']\necom_uk.shape",
      "execution_count": 68,
      "outputs": [
        {
          "output_type": "execute_result",
          "execution_count": 68,
          "data": {
            "text/plain": "(495478, 8)"
          },
          "metadata": {}
        }
      ]
    },
    {
      "metadata": {
        "trusted": true,
        "_uuid": "6ea8a9244ece9646aa162e4b0433b211c0620015"
      },
      "cell_type": "code",
      "source": "## Remove orders that are negative\necom_uk = ecom_uk[ecom_uk['Quantity']>0]\necom_uk.shape",
      "execution_count": 69,
      "outputs": [
        {
          "output_type": "execute_result",
          "execution_count": 69,
          "data": {
            "text/plain": "(486286, 8)"
          },
          "metadata": {}
        }
      ]
    },
    {
      "metadata": {
        "trusted": true,
        "_uuid": "11b6c6690c7b4d71d622706d6bee3ab435cff66a"
      },
      "cell_type": "code",
      "source": "## Replace customers with NA values\necom_uk.dropna(subset=['CustomerID'], how='all', inplace=True)\necom_uk.shape",
      "execution_count": 70,
      "outputs": [
        {
          "output_type": "execute_result",
          "execution_count": 70,
          "data": {
            "text/plain": "(354345, 8)"
          },
          "metadata": {}
        }
      ]
    },
    {
      "metadata": {
        "trusted": true,
        "_uuid": "037d9fae542582ce92c5aa8b7033212be88239da"
      },
      "cell_type": "code",
      "source": "print(\"Summary..\")\n#exploring the unique values of each attribute\nprint(\"Number of unique transactions: \", ecom_uk['InvoiceNo'].nunique())\nprint(\"Number of unique products bought: \",ecom_uk['StockCode'].nunique())\nprint(\"Number of unique customers:\", ecom_uk['CustomerID'].nunique())",
      "execution_count": 71,
      "outputs": [
        {
          "output_type": "stream",
          "text": "Summary..\nNumber of unique transactions:  16649\nNumber of unique products bought:  3645\nNumber of unique customers: 3921\n",
          "name": "stdout"
        }
      ]
    },
    {
      "metadata": {
        "_uuid": "cbaccf99777325fb28ee98c749fea76c4b5693b6"
      },
      "cell_type": "markdown",
      "source": "# RFM Analysis"
    },
    {
      "metadata": {
        "_uuid": "ec2d9fb9cd749c93e38e928a9f9a19cb5f3ea345"
      },
      "cell_type": "markdown",
      "source": "**RFM** (Recency, Frequency, Monetary) analysis is a customer segmentation technique that uses past purchase behavior to divide customers into groups. \nRFM helps divide customers into various categories or clusters to identify customers who are more likely to respond to promotions and also for future personalization services.\n\n- RECENCY (R): Days since last purchase\n- FREQUENCY (F): Total number of purchases\n- MONETARY VALUE (M): Total money this customer spent.\n\nWe will create those 3 customer attributes for each customer."
    },
    {
      "metadata": {
        "_uuid": "37025d4aa093ef0ce9fe86d68ba9655564b94656"
      },
      "cell_type": "markdown",
      "source": "## Recency"
    },
    {
      "metadata": {
        "_uuid": "297503df5b379afba9bce04162ba9804d03ed453"
      },
      "cell_type": "markdown",
      "source": "To calculate recency, we need to choose a date point from which we evaluate **how many days ago was the customer's last purchase**.\nThe last date we have is 2011-12-09 so we will use it as reference."
    },
    {
      "metadata": {
        "trusted": true,
        "_uuid": "564e421be45c0ad047f6681aa362cf663d9c2d05"
      },
      "cell_type": "code",
      "source": "now = dt.date(2011,12,9)\nprint(now)",
      "execution_count": 72,
      "outputs": [
        {
          "output_type": "stream",
          "text": "2011-12-09\n",
          "name": "stdout"
        }
      ]
    },
    {
      "metadata": {
        "trusted": true,
        "_uuid": "1daa400398509fc4ff52703c4057c8752d0b3ec7"
      },
      "cell_type": "code",
      "source": "ecom_df['InvoiceDate'].max()",
      "execution_count": 73,
      "outputs": [
        {
          "output_type": "execute_result",
          "execution_count": 73,
          "data": {
            "text/plain": "'9/9/2011 9:52'"
          },
          "metadata": {}
        }
      ]
    },
    {
      "metadata": {
        "trusted": true,
        "_uuid": "8b3a717db9c0d3026fb7a71ab3f8f9cb6a753b46"
      },
      "cell_type": "code",
      "source": "#Create a new column that contains the date of Invoice (not invoice timestamp)\necom_df['InvoiceDt'] = pd.DatetimeIndex(ecom_df['InvoiceDate']).date\necom_df.head()",
      "execution_count": null,
      "outputs": []
    },
    {
      "metadata": {
        "trusted": true,
        "_uuid": "1704360dab53f6e0fb5aa7314dc7c24fabab56ec"
      },
      "cell_type": "code",
      "source": "recency_df = ecom_df.groupby(by='CustomerID', as_index=False)['InvoiceDt'].max()\nrecency_df.columns = ['CustomerID','LastPurchaceDate']\nrecency_df.head()",
      "execution_count": null,
      "outputs": []
    },
    {
      "metadata": {
        "trusted": true,
        "_uuid": "ce69796bacd4900bbaa9e788fc8219aadcb8c2ca"
      },
      "cell_type": "code",
      "source": "recency_df[recency_df['CustomerID'] =='17850']",
      "execution_count": null,
      "outputs": []
    },
    {
      "metadata": {
        "trusted": true,
        "_uuid": "c80cdf9efe78c3197d4171eb0d5a601e6a3f694b"
      },
      "cell_type": "code",
      "source": "recency_df['Recency'] = recency_df['LastPurchaceDate'].apply(lambda x: (now -x).days)\nrecency_df.head()",
      "execution_count": null,
      "outputs": []
    },
    {
      "metadata": {
        "trusted": true,
        "_uuid": "83f82808c08cb24b69839454646f0f2121fbe092"
      },
      "cell_type": "code",
      "source": "recency_df[recency_df['CustomerID']=='17850']",
      "execution_count": null,
      "outputs": []
    },
    {
      "metadata": {
        "_uuid": "1d2564a981a2b41c75bed046ef393e66001f7ae3"
      },
      "cell_type": "markdown",
      "source": "The last date we have is 2011-12-09 so we will use it as reference."
    },
    {
      "metadata": {
        "trusted": true,
        "_uuid": "53f07bd1b96f6bf8fe1243037bbefea33a6315db"
      },
      "cell_type": "code",
      "source": "recency_df.drop('LastPurchaceDate', axis = 1, inplace=True)",
      "execution_count": null,
      "outputs": []
    },
    {
      "metadata": {
        "trusted": true,
        "_uuid": "7c3e4fd44f711d672face24dbae0f8949c4ef0ba"
      },
      "cell_type": "code",
      "source": "recency_df.head()",
      "execution_count": null,
      "outputs": []
    },
    {
      "metadata": {
        "_uuid": "64c16d4ddbd8ee8719dcddde7e3257d7f9faffb3"
      },
      "cell_type": "markdown",
      "source": "## Frequency"
    },
    {
      "metadata": {
        "_uuid": "41069f6b022ad8ea37d941f165fa20baa2868d04"
      },
      "cell_type": "markdown",
      "source": "Frequency helps us to know how many times a customer purchased from us. To do that we need to check **how many invoices are registered by the same customer**."
    },
    {
      "metadata": {
        "trusted": true,
        "_uuid": "d8236799fe322fbaf6001c43be559946205c4ae6"
      },
      "cell_type": "code",
      "source": "ecom_df_copy = ecom_df\necom_df_copy.drop_duplicates(subset =['InvoiceNo', 'CustomerID'], keep=\"first\", inplace=True)\necom_df_copy.head()\nfreq_df = ecom_df_copy.groupby(by=['CustomerID'], as_index=False)['InvoiceNo'].count()\nfreq_df.columns = ['CustomerID', 'Frequency']\nfreq_df.head()",
      "execution_count": null,
      "outputs": []
    },
    {
      "metadata": {
        "_uuid": "f676ce29bcbe49aeb73de6706ab1e7eb954172ff"
      },
      "cell_type": "markdown",
      "source": "## Monetary"
    },
    {
      "metadata": {
        "_uuid": "9c0b5a6c58b1ab515d3ac34738733d5e2a1729af"
      },
      "cell_type": "markdown",
      "source": "Monetary attribute answers the question: **How much money did the customer spent over time?**\n\nTo do that, first, we will create a new column total cost to have the total price per invoice."
    },
    {
      "metadata": {
        "trusted": true,
        "_uuid": "f0ba92add4b2789dfaa6b275daf9c83bd85a0036"
      },
      "cell_type": "code",
      "source": "#create column total cost\necom_df['TotalCost'] = ecom_df['Quantity'] * ecom_df['UnitPrice']\necom_df.head()",
      "execution_count": null,
      "outputs": []
    },
    {
      "metadata": {
        "trusted": true,
        "_uuid": "b95ce8a5cdbb3e5a4c199c8f338cfbce19ed8266"
      },
      "cell_type": "code",
      "source": "monetary_df = ecom_df.groupby(by='CustomerID',as_index=False).agg({'TotalCost': 'sum'})\nmonetary_df.columns = ['CustomerID','Monetary']\nmonetary_df.head()",
      "execution_count": null,
      "outputs": []
    },
    {
      "metadata": {
        "trusted": true,
        "_uuid": "d4f1ba22a7118b9a34bdfb20dd7c31257a2dd783"
      },
      "cell_type": "code",
      "source": "rfm_df1 = recency_df.merge(freq_df, on='CustomerID')\nrfm_df2 = rfm_df1.merge(monetary_df, on='CustomerID')\nrfm_df2.head()",
      "execution_count": null,
      "outputs": []
    },
    {
      "metadata": {
        "trusted": true,
        "_uuid": "75f318d21c0d296b385cfc34fa343c0a1973fe44"
      },
      "cell_type": "code",
      "source": "rfm_df2.set_index('CustomerID',inplace=True)\n#check the head\nrfm_df2.head()",
      "execution_count": null,
      "outputs": []
    },
    {
      "metadata": {
        "_uuid": "55ffbc87d562083d6c8ed174bfa751b1a84119b9"
      },
      "cell_type": "markdown",
      "source": "## Create RFM Table"
    },
    {
      "metadata": {
        "_uuid": "bb444d9ad0de911c791a4b404dd227004c589ef8"
      },
      "cell_type": "markdown",
      "source": "## RFM Table Correctness verification"
    },
    {
      "metadata": {
        "trusted": true,
        "_uuid": "a10b2e7884466bff185104c353ded2621a2ddb86"
      },
      "cell_type": "code",
      "source": "ecom_df[ecom_df['CustomerID']=='12820']",
      "execution_count": null,
      "outputs": []
    },
    {
      "metadata": {
        "trusted": true,
        "_uuid": "4221bca5449a3ac5835de849978dfd5cded89349"
      },
      "cell_type": "code",
      "source": "(now - dt.date(2011,9,26)).days == 74",
      "execution_count": null,
      "outputs": []
    },
    {
      "metadata": {
        "_uuid": "5b4b281a23d455056581cb1d58275b36e0a58990"
      },
      "cell_type": "markdown",
      "source": "## Customer segments with RFM Model"
    },
    {
      "metadata": {
        "_uuid": "ad8f715fe3b5bd0380386420f62c5fee233c39c2"
      },
      "cell_type": "markdown",
      "source": "The simplest way to create customers segments from RFM Model is to use** Quartiles**. We assign a score from 1 to 4 to Recency, Frequency and Monetary. Four is the best/highest value, and one is the lowest/worst value. A final RFM score is calculated simply by combining individual RFM score numbers.\n\nNote: Quintiles (score from 1-5) offer better granularity, in case the business needs that but it will be more challenging to create segments since we will have 555 possible combinations. So, we will use quartiles."
    },
    {
      "metadata": {
        "_uuid": "fa4f401ebb36f68747f0315db84bb65bb8054a2e"
      },
      "cell_type": "markdown",
      "source": "### RFM Quartiles"
    },
    {
      "metadata": {
        "trusted": true,
        "_uuid": "dcbf5d7f863aed74129f0f5349346ffc48a2d966"
      },
      "cell_type": "code",
      "source": "quantiles = rfm_df2.quantile(q=[0.25, 0.5, 0.75])\nquantiles",
      "execution_count": null,
      "outputs": []
    },
    {
      "metadata": {
        "trusted": true,
        "_uuid": "7573e1f2a5e689157a1dcac42bf62b6a6fe0a53a"
      },
      "cell_type": "code",
      "source": "quantiles.to_dict()",
      "execution_count": null,
      "outputs": []
    },
    {
      "metadata": {
        "_uuid": "ea328b04e3754e58a50a6ed3e6b7167f06a87850"
      },
      "cell_type": "markdown",
      "source": "### Creation of RFM Segments"
    },
    {
      "metadata": {
        "_uuid": "5411971626dc4186db643ac2f4e0afaa7cf049f7"
      },
      "cell_type": "markdown",
      "source": "We will create two segmentation classes since, high recency is bad, while high frequency and monetary value is good."
    },
    {
      "metadata": {
        "trusted": true,
        "_uuid": "f74cf272dc6e4d3277b654d73822b9f5c292dfdb"
      },
      "cell_type": "code",
      "source": "def RScore(x, p, d):\n    if x <= d[p][0.25]:\n        return 4\n    elif x <= d[p][0.5]:\n        return 3\n    elif x <= d[p][0.75]:\n        return 2\n    else:\n        return 1",
      "execution_count": null,
      "outputs": []
    },
    {
      "metadata": {
        "trusted": true,
        "_uuid": "47f7fbd8aca85fad969e59f75afe1ae25f0a56ee"
      },
      "cell_type": "code",
      "source": "def FMScore(x, p, d):\n    if x <= d[p][0.25]:\n        return 1\n    elif x <= d[p][0.5]:\n        return 2\n    elif x <= d[p][0.75]:\n        return 3\n    else:\n        return 4",
      "execution_count": null,
      "outputs": []
    },
    {
      "metadata": {
        "trusted": true,
        "_uuid": "d3ec789a808909e51992728b5d33ce791cc0b63c"
      },
      "cell_type": "code",
      "source": "rfm_segm = rfm_df2\nrfm_segm['R_Quartile'] = rfm_segm['Recency'].apply(RScore, args = ('Recency', quantiles, ))\nrfm_segm['F_Quartile'] = rfm_segm['Frequency'].apply(FMScore, args =('Frequency', quantiles,))\nrfm_segm['F_Quartile'] = rfm_segm['Monetary'].apply(FMScore, args =('Monetary', quantiles,))\nrfm_segm.head()",
      "execution_count": null,
      "outputs": []
    },
    {
      "metadata": {
        "_uuid": "9dc54f3e65394975c917b1f0abc8132660c7a0fb"
      },
      "cell_type": "markdown",
      "source": "Now that we have the score of each customer, we can represent our customer segmentation.\nFirst, we need to combine the scores (R_Quartile, F_Quartile,M_Quartile) together."
    },
    {
      "metadata": {
        "trusted": true,
        "_uuid": "bacd6727857821b5d6d89d24238342ec07fc9d69"
      },
      "cell_type": "code",
      "source": "rfm_segm['RFMScore'] = rfm_segm.R_Quartile.map(str) + rfm_segm.F_Quartile.map(str) + rfm_segm.M_Quartile.map(str)\nrfm_segm.head()",
      "execution_count": null,
      "outputs": []
    },
    {
      "metadata": {
        "_uuid": "d6b4cce24045e404daa89a03038745155d8ec83f"
      },
      "cell_type": "markdown",
      "source": "Best Recency score = 4: most recently purchase. Best Frequency score = 4: most quantity purchase. \nBest Monetary score = 4: spent the most."
    },
    {
      "metadata": {
        "_uuid": "79fb45333f36ebde6120c84a33bab6d54dacba02"
      },
      "cell_type": "markdown",
      "source": "Let's see who are our** Champions** (best customers)."
    },
    {
      "metadata": {
        "trusted": true,
        "_uuid": "39de9a09fd484219d2230059f3435917e1db13f4"
      },
      "cell_type": "code",
      "source": "rfm_segm[rfm_segm['RFMScore'] == '444'].sort_values('Monetary', ascending=False).head(10)",
      "execution_count": null,
      "outputs": []
    },
    {
      "metadata": {
        "_uuid": "d7c791e039e165c528fc762d3d9727af3249c618"
      },
      "cell_type": "markdown",
      "source": "We can find [here](http://www.blastam.com/blog/rfm-analysis-boosts-sales) a suggestion of key segments and then we can decide which segment to consider for further study.\n\nNote: the suggested link use the opposite valuation: 1 as highest/best score and 4 is the lowest.\n\n**How many customers do we have in each segment?**"
    },
    {
      "metadata": {
        "trusted": true,
        "_uuid": "239375c3c5e09565eb34ba073f74e0f6681d5058"
      },
      "cell_type": "code",
      "source": "print(\"Best Customers- High RFM: \",len(rfm_segm[rfm_segm['RFMScore']=='444']))\nprint('Loyal Customers-Shop more often: ',len(rfm_segm[rfm_segm['F_Quartile']==4]))\nprint(\"Big Spenders: \",len(rfm_segm[rfm_segm['M_Quartile']==4]))\nprint('Almost Lost-High Spenders (Need campaign to recover): ', len(rfm_segm[rfm_segm['RFMScore']=='244']))\nprint('Lost Customers-High spenders (Need reactivation campaign): ',len(rfm_segm[rfm_segm['RFMScore']=='144']))\nprint('Lost Cheap Customers (Less focus): ',len(rfm_segm[rfm_segm['RFMScore']=='111']))",
      "execution_count": null,
      "outputs": []
    },
    {
      "metadata": {
        "_uuid": "c5f63ac35884a02c4af86d68c0d266de46fd5eb9"
      },
      "cell_type": "markdown",
      "source": "Now that we knew our customers segments we can choose how to target or deal with each segment.\n\nFor example:\n\n**Best Customers - Champions**: Reward them. They can be early adopters to new products. Suggest them \"Refer a friend\".\n\n**At Risk**: Send them personalized emails to encourage them to shop."
    },
    {
      "metadata": {
        "trusted": true,
        "_uuid": "b118a05b7f653b49cfbec09a05aa31e61f08a8c3"
      },
      "cell_type": "code",
      "source": "",
      "execution_count": null,
      "outputs": []
    },
    {
      "metadata": {
        "trusted": true,
        "_uuid": "8909b74681397a1612b93a638d2ed70e337173b8"
      },
      "cell_type": "code",
      "source": "",
      "execution_count": null,
      "outputs": []
    }
  ],
  "metadata": {
    "kernelspec": {
      "display_name": "Python 3",
      "language": "python",
      "name": "python3"
    },
    "language_info": {
      "name": "python",
      "version": "3.6.6",
      "mimetype": "text/x-python",
      "codemirror_mode": {
        "name": "ipython",
        "version": 3
      },
      "pygments_lexer": "ipython3",
      "nbconvert_exporter": "python",
      "file_extension": ".py"
    }
  },
  "nbformat": 4,
  "nbformat_minor": 1
}